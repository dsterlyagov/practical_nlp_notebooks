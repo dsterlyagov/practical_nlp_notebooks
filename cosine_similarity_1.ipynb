{
 "cells": [
  {
   "cell_type": "code",
   "execution_count": 44,
   "metadata": {},
   "outputs": [],
   "source": [
    "from bs4 import BeautifulSoup\n",
    "import requests\n",
    "import matplotlib.pyplot as plt\n",
    "import seaborn as sns\n",
    "import pandas as pd"
   ]
  },
  {
   "cell_type": "code",
   "execution_count": 45,
   "metadata": {},
   "outputs": [],
   "source": [
    "# 1 Импортировали 4 уникальных текста(книги с проекта Гутенберг)\n",
    "# 2 Создали функции для очистки текстов\n",
    "# 3 Конвертировали списки в строки\n",
    "# 4 TfidfVectorizer\n",
    "# 5 Сгененировали матрицу косинусного сходства "
   ]
  },
  {
   "cell_type": "code",
   "execution_count": 46,
   "metadata": {},
   "outputs": [],
   "source": [
    "# Шаг 1 Импортировали 4 уникальных текста(книги с проекта Гутенберг)"
   ]
  },
  {
   "cell_type": "code",
   "execution_count": 3,
   "metadata": {},
   "outputs": [],
   "source": [
    "url1 = \"https://www.gutenberg.org/files/43/43-h/43-h.htm\"\n",
    "url2 = \"https://www.gutenberg.org/files/120/120-h/120-h.htm\"\n",
    "url3 = \"https://www.gutenberg.org/files/345/345-h/345-h.htm\"\n",
    "url4 = \"https://www.gutenberg.org/files/98/98-h/98-h.htm\""
   ]
  },
  {
   "cell_type": "code",
   "execution_count": 47,
   "metadata": {},
   "outputs": [],
   "source": [
    "# 2 Создали функции для очистки текстов"
   ]
  },
  {
   "cell_type": "code",
   "execution_count": 6,
   "metadata": {},
   "outputs": [],
   "source": [
    "import string\n",
    "import nltk\n",
    "lemmer = nltk.stem.WordNetLemmatizer()"
   ]
  },
  {
   "cell_type": "code",
   "execution_count": 22,
   "metadata": {},
   "outputs": [],
   "source": [
    "# функция токенизатор\n",
    "def LemTokens(tokens):\n",
    "    return [lemmer.lemmatize(token) for token in tokens]"
   ]
  },
  {
   "cell_type": "code",
   "execution_count": 23,
   "metadata": {},
   "outputs": [],
   "source": [
    "# Знаки препинания, которые необходимо удалить\n",
    "remove_punct_dict = dict((ord(punct), None) for punct in string.punctuation)"
   ]
  },
  {
   "cell_type": "code",
   "execution_count": 24,
   "metadata": {},
   "outputs": [],
   "source": [
    "# функция нормализатор\n",
    "def LemNormalize(text):\n",
    "    return LemTokens(nltk.word_tokenize(text.lower().translate(remove_punct_dict)))"
   ]
  },
  {
   "cell_type": "code",
   "execution_count": 48,
   "metadata": {},
   "outputs": [],
   "source": [
    "# Все слили в одну функцию которая преобразует все в один список\n",
    "def clean_word_list(url):\n",
    "    req = requests.get(url)\n",
    "    html = req.text\n",
    "    soup = BeautifulSoup(html, \"html5lib\")\n",
    "    text = soup.get_text()\n",
    "    tokenizer = LemNormalize\n",
    "    tokens = tokenizer(text)\n",
    "    words =[]\n",
    "    for word in tokens:\n",
    "        words.append(word)\n",
    "    return words"
   ]
  },
  {
   "cell_type": "code",
   "execution_count": 49,
   "metadata": {},
   "outputs": [],
   "source": [
    "clean1 = clean_word_list(url1)\n",
    "clean2 = clean_word_list(url2)\n",
    "clean3 = clean_word_list(url3)\n",
    "clean4 = clean_word_list(url4)"
   ]
  },
  {
   "cell_type": "code",
   "execution_count": 51,
   "metadata": {},
   "outputs": [],
   "source": [
    "#3 Конвертировали списки в строки"
   ]
  },
  {
   "cell_type": "code",
   "execution_count": 27,
   "metadata": {},
   "outputs": [],
   "source": [
    "# функция преобразования списка в строку\n",
    "def list_to_string(orig_list, separator = ' '):\n",
    "    return separator.join(orig_list)"
   ]
  },
  {
   "cell_type": "code",
   "execution_count": 29,
   "metadata": {},
   "outputs": [],
   "source": [
    "#Jekyll Hyde\n",
    "string1 = list_to_string(clean1)\n",
    "#Treasure Island\n",
    "string2 = list_to_string(clean2)\n",
    "#Dracula\n",
    "string3 = list_to_string(clean3)\n",
    "#Two Cities\n",
    "string4 = list_to_string(clean4)"
   ]
  },
  {
   "cell_type": "code",
   "execution_count": 52,
   "metadata": {},
   "outputs": [],
   "source": [
    "# создаем список строк, в каждом элементе массива строка-книга\n",
    "doc_lib = [string1, string2, string3, string4]"
   ]
  },
  {
   "cell_type": "code",
   "execution_count": 53,
   "metadata": {},
   "outputs": [],
   "source": [
    "# 4 TfidfVectorizer"
   ]
  },
  {
   "cell_type": "code",
   "execution_count": 32,
   "metadata": {},
   "outputs": [],
   "source": [
    "from sklearn.feature_extraction.text import TfidfVectorizer"
   ]
  },
  {
   "cell_type": "code",
   "execution_count": 54,
   "metadata": {},
   "outputs": [],
   "source": [
    "TfidfVec = TfidfVectorizer(tokenizer=LemNormalize, stop_words=\"english\")"
   ]
  },
  {
   "cell_type": "code",
   "execution_count": 55,
   "metadata": {},
   "outputs": [],
   "source": [
    "# 5 Сгененировали матрицу косинусного сходства "
   ]
  },
  {
   "cell_type": "code",
   "execution_count": 38,
   "metadata": {},
   "outputs": [],
   "source": [
    "def cos_similarity(textlist):\n",
    "    tfidf = TfidfVec.fit_transform(textlist)\n",
    "    return (tfidf*tfidf.T).toarray()"
   ]
  },
  {
   "cell_type": "code",
   "execution_count": 39,
   "metadata": {},
   "outputs": [
    {
     "name": "stderr",
     "output_type": "stream",
     "text": [
      "C:\\ProgramData\\Anaconda3\\lib\\site-packages\\sklearn\\feature_extraction\\text.py:383: UserWarning: Your stop_words may be inconsistent with your preprocessing. Tokenizing the stop words generated tokens ['ha', 'le', 'u', 'wa'] not in stop_words.\n",
      "  warnings.warn('Your stop_words may be inconsistent with '\n"
     ]
    }
   ],
   "source": [
    "stored = cos_similarity(doc_lib)"
   ]
  },
  {
   "cell_type": "code",
   "execution_count": 40,
   "metadata": {},
   "outputs": [],
   "source": [
    "names = [\"Jekyll\", \"Treasure\", \"Dracula\", \"Two Cities\"]"
   ]
  },
  {
   "cell_type": "code",
   "execution_count": 42,
   "metadata": {},
   "outputs": [],
   "source": [
    "visual = pd.DataFrame(stored, index=names, columns= names)"
   ]
  },
  {
   "cell_type": "code",
   "execution_count": 43,
   "metadata": {},
   "outputs": [
    {
     "name": "stdout",
     "output_type": "stream",
     "text": [
      "Cosine Similarity Matrix\n"
     ]
    },
    {
     "data": {
      "text/html": [
       "<div>\n",
       "<style scoped>\n",
       "    .dataframe tbody tr th:only-of-type {\n",
       "        vertical-align: middle;\n",
       "    }\n",
       "\n",
       "    .dataframe tbody tr th {\n",
       "        vertical-align: top;\n",
       "    }\n",
       "\n",
       "    .dataframe thead th {\n",
       "        text-align: right;\n",
       "    }\n",
       "</style>\n",
       "<table border=\"1\" class=\"dataframe\">\n",
       "  <thead>\n",
       "    <tr style=\"text-align: right;\">\n",
       "      <th></th>\n",
       "      <th>Jekyll</th>\n",
       "      <th>Treasure</th>\n",
       "      <th>Dracula</th>\n",
       "      <th>Two Cities</th>\n",
       "    </tr>\n",
       "  </thead>\n",
       "  <tbody>\n",
       "    <tr>\n",
       "      <th>Jekyll</th>\n",
       "      <td>1.000000</td>\n",
       "      <td>0.786562</td>\n",
       "      <td>0.487357</td>\n",
       "      <td>0.828353</td>\n",
       "    </tr>\n",
       "    <tr>\n",
       "      <th>Treasure</th>\n",
       "      <td>0.786562</td>\n",
       "      <td>1.000000</td>\n",
       "      <td>0.410489</td>\n",
       "      <td>0.842221</td>\n",
       "    </tr>\n",
       "    <tr>\n",
       "      <th>Dracula</th>\n",
       "      <td>0.487357</td>\n",
       "      <td>0.410489</td>\n",
       "      <td>1.000000</td>\n",
       "      <td>0.404343</td>\n",
       "    </tr>\n",
       "    <tr>\n",
       "      <th>Two Cities</th>\n",
       "      <td>0.828353</td>\n",
       "      <td>0.842221</td>\n",
       "      <td>0.404343</td>\n",
       "      <td>1.000000</td>\n",
       "    </tr>\n",
       "  </tbody>\n",
       "</table>\n",
       "</div>"
      ],
      "text/plain": [
       "              Jekyll  Treasure   Dracula  Two Cities\n",
       "Jekyll      1.000000  0.786562  0.487357    0.828353\n",
       "Treasure    0.786562  1.000000  0.410489    0.842221\n",
       "Dracula     0.487357  0.410489  1.000000    0.404343\n",
       "Two Cities  0.828353  0.842221  0.404343    1.000000"
      ]
     },
     "execution_count": 43,
     "metadata": {},
     "output_type": "execute_result"
    }
   ],
   "source": [
    "print(\"Cosine Similarity Matrix\")\n",
    "visual"
   ]
  }
 ],
 "metadata": {
  "kernelspec": {
   "display_name": "Python 3 (ipykernel)",
   "language": "python",
   "name": "python3"
  },
  "language_info": {
   "codemirror_mode": {
    "name": "ipython",
    "version": 3
   },
   "file_extension": ".py",
   "mimetype": "text/x-python",
   "name": "python",
   "nbconvert_exporter": "python",
   "pygments_lexer": "ipython3",
   "version": "3.9.7"
  }
 },
 "nbformat": 4,
 "nbformat_minor": 4
}
