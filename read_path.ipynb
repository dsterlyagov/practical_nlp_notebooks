{
 "cells": [
  {
   "cell_type": "code",
   "execution_count": 3,
   "metadata": {},
   "outputs": [
    {
     "name": "stdout",
     "output_type": "stream",
     "text": [
      "data\\SMSSpamCollection.tsv\n",
      "data\\SMSSpamCollection_cleaned.tsv\n",
      "data\\1\\in\\SMSSpamCollection.tsv\n",
      "data\\1\\out\\SMSSpamCollection_cleaned.tsv\n",
      "data\\2\\in\\SMSSpamCollection_cleaned.tsv\n",
      "data\\2\\out\\SMSSpamCollection.tsv\n",
      "data\\2\\out\\3\\SMSSpamCollection_cleaned.tsv\n"
     ]
    }
   ],
   "source": [
    "import os\n",
    "file_path_list=[]\n",
    "for subdir, dirs, files in os.walk('data'):\n",
    "    for file in files:\n",
    "        file_path = subdir + os.path.sep + file\n",
    "        file_path_list.append(file_path)\n",
    "        print(file_path)"
   ]
  },
  {
   "cell_type": "code",
   "execution_count": 4,
   "metadata": {},
   "outputs": [
    {
     "data": {
      "text/plain": [
       "['data\\\\SMSSpamCollection.tsv',\n",
       " 'data\\\\SMSSpamCollection_cleaned.tsv',\n",
       " 'data\\\\1\\\\in\\\\SMSSpamCollection.tsv',\n",
       " 'data\\\\1\\\\out\\\\SMSSpamCollection_cleaned.tsv',\n",
       " 'data\\\\2\\\\in\\\\SMSSpamCollection_cleaned.tsv',\n",
       " 'data\\\\2\\\\out\\\\SMSSpamCollection.tsv',\n",
       " 'data\\\\2\\\\out\\\\3\\\\SMSSpamCollection_cleaned.tsv']"
      ]
     },
     "execution_count": 4,
     "metadata": {},
     "output_type": "execute_result"
    }
   ],
   "source": [
    "file_path_list"
   ]
  }
 ],
 "metadata": {
  "kernelspec": {
   "display_name": "Python 3",
   "language": "python",
   "name": "python3"
  },
  "language_info": {
   "codemirror_mode": {
    "name": "ipython",
    "version": 3
   },
   "file_extension": ".py",
   "mimetype": "text/x-python",
   "name": "python",
   "nbconvert_exporter": "python",
   "pygments_lexer": "ipython3",
   "version": "3.8.5"
  }
 },
 "nbformat": 4,
 "nbformat_minor": 4
}
